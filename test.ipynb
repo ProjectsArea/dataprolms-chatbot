{
 "cells": [
  {
   "cell_type": "code",
   "execution_count": 2,
   "id": "0e2c42af",
   "metadata": {},
   "outputs": [
    {
     "name": "stdout",
     "output_type": "stream",
     "text": [
      "Bot: I am not familiar with anyone by the name of Haribabu Kuthmpeta. However, it's quite possible that this person's name is well-known or renowned in a specific region or field. Can you provide some additional context or information about this person to help me better understand their background or achievements? That would be helpful in providing more accurate responses.\n"
     ]
    }
   ],
   "source": [
    "import cohere\n",
    "\n",
    "co = cohere.Client(\"W0ZMiF8D4eU3eMGgZevXJMPwnJMzJVtd7JYwvo0V\")  # No ClientV2 needed for most use cases\n",
    "\n",
    "response = co.chat(\n",
    "    model=\"command-r\",  # or \"command-a-03-2025\" if you have access\n",
    "    message=\"Do you know haribabu kuthmpeta\",\n",
    "    max_tokens=4000,\n",
    "    temperature=0.65  # You can use just `message` for one-shot chat\n",
    ")\n",
    "\n",
    "print(\"Bot:\", response.text) \n"
   ]
  }
 ],
 "metadata": {
  "kernelspec": {
   "display_name": "base",
   "language": "python",
   "name": "python3"
  },
  "language_info": {
   "codemirror_mode": {
    "name": "ipython",
    "version": 3
   },
   "file_extension": ".py",
   "mimetype": "text/x-python",
   "name": "python",
   "nbconvert_exporter": "python",
   "pygments_lexer": "ipython3",
   "version": "3.12.7"
  }
 },
 "nbformat": 4,
 "nbformat_minor": 5
}
